{
 "cells": [
  {
   "cell_type": "code",
   "execution_count": 2,
   "metadata": {},
   "outputs": [],
   "source": [
    "import tomllib\n",
    "import msgspec\n",
    "from pathlib import Path\n",
    "from IPython.display import display\n",
    "from decimal import Decimal"
   ]
  },
  {
   "cell_type": "code",
   "execution_count": 3,
   "metadata": {},
   "outputs": [
    {
     "data": {
      "text/plain": [
       "{'title': 'TOML Example',\n",
       " 'owner': {'info': {'name': 'Tom Preston-Werner',\n",
       "   'dob': datetime.datetime(1979, 5, 27, 7, 32, tzinfo=datetime.timezone(datetime.timedelta(days=-1, seconds=57600))),\n",
       "   'nb_of_days_per_month': 30,\n",
       "   'nb_of_months': 3,\n",
       "   'nb_of_days': '=nb_of_months * nb_of_days_per_month',\n",
       "   'calculated_value': '= nb_of_days^3 * database.nb_of_ports + 2 / database.data[1][0]^2 * 2.32e-3 * _input_parts - cos(2*nb_of_days)'},\n",
       "  'database': {'enabled': True,\n",
       "   'nb_of_ports': 3,\n",
       "   'ports': [8000, 8001, 8002],\n",
       "   'data': [['delta', 'phi'], [3.14]],\n",
       "   'temp_targets': {'cpu': 79.5, 'case': 72.0}}},\n",
       " 'servers': {'alpha': {'ip': '10.0.0.1',\n",
       "   'role': 'frontend',\n",
       "   'test_list_of_dict': [{'a': 'a_val', 'b': 'b_val'}, {'c': 'c_val'}]},\n",
       "  'beta': {'role': 'backend',\n",
       "   'test': {'ip': '10.0.0.2', 'role': 'backend_test'},\n",
       "   'prod': {'ip': '10.0.0.3', 'role': 'backend_prod'}}}}"
      ]
     },
     "execution_count": 3,
     "metadata": {},
     "output_type": "execute_result"
    }
   ],
   "source": [
    "test_content = tomllib.load(Path(r\"../tests/assets/test.toml\").open('rb'))  #, parse_float=Decimal)\n",
    "test_content"
   ]
  },
  {
   "cell_type": "code",
   "execution_count": 4,
   "metadata": {},
   "outputs": [],
   "source": [
    "def merge_dict(dict1: dict, dict2: dict) -> dict:\n",
    "    \"\"\"from https://stackoverflow.com/a/58742155\"\"\"\n",
    "    for key, val in dict1.items():\n",
    "        if type(val) == dict:\n",
    "            if key in dict2 and type(dict2[key] == dict):\n",
    "                merge_dict(dict1[key], dict2[key])\n",
    "        else:\n",
    "            if key in dict2:\n",
    "                dict1[key] = dict2[key]\n",
    "\n",
    "    for key, val in dict2.items():\n",
    "        if not key in dict1:\n",
    "            dict1[key] = val\n",
    "\n",
    "    return dict1"
   ]
  },
  {
   "cell_type": "code",
   "execution_count": 5,
   "metadata": {},
   "outputs": [
    {
     "data": {
      "text/plain": [
       "{'title': 'TOML Example Updated',\n",
       " 'owner': {'info': {'name': 'Tom Preston-Werner',\n",
       "   'dob': datetime.datetime(1979, 5, 27, 7, 32, tzinfo=datetime.timezone(datetime.timedelta(days=-1, seconds=57600))),\n",
       "   'nb_of_days_per_month': 25,\n",
       "   'nb_of_months': 3,\n",
       "   'nb_of_days': '=nb_of_months * nb_of_days_per_month + 5',\n",
       "   'calculated_value': '= nb_of_days^3 * database.nb_of_ports + 2 / database.data[1][0]^2 * 2.32e-3 * _input_parts - cos(2*nb_of_days)'},\n",
       "  'database': {'enabled': True,\n",
       "   'nb_of_ports': 3,\n",
       "   'ports': [8000, 8001, 8002],\n",
       "   'data': [['delta', 'phi'], [3.14]],\n",
       "   'temp_targets': {'cpu': 79.5, 'case': 72.0}}},\n",
       " 'servers': {'alpha': {'ip': '10.0.0.1',\n",
       "   'role': 'frontend',\n",
       "   'test_list_of_dict': [{'a': 'a_val', 'b': 'b_val'}, {'c': 'c_val'}]},\n",
       "  'beta': {'role': 'backend',\n",
       "   'test': {'ip': '10.10.10.20', 'role': 'backend_test'},\n",
       "   'prod': {'ip': '10.0.0.3', 'role': 'backend_prod'}}}}"
      ]
     },
     "execution_count": 5,
     "metadata": {},
     "output_type": "execute_result"
    }
   ],
   "source": [
    "updated_test_content = tomllib.load(Path(r\"../tests/assets/test_second.toml\").open('rb'))\n",
    "merge_dict(test_content, updated_test_content)\n",
    "test_content"
   ]
  },
  {
   "cell_type": "code",
   "execution_count": 6,
   "metadata": {},
   "outputs": [
    {
     "data": {
      "text/plain": [
       "{'title': 'TOML Example Updated Twice',\n",
       " 'owner': {'info': {'name': 'Tom Preston-Werner',\n",
       "   'dob': datetime.datetime(1979, 5, 27, 7, 32, tzinfo=datetime.timezone(datetime.timedelta(days=-1, seconds=57600))),\n",
       "   'nb_of_days_per_month': 28,\n",
       "   'nb_of_months': 3,\n",
       "   'nb_of_days': '=nb_of_months * nb_of_days_per_month + 5',\n",
       "   'calculated_value': '= nb_of_days^3 * database.nb_of_ports + 2 / database.data[1][0]^2 * 2.32e-3 * _input_parts - cos(2*nb_of_days)'},\n",
       "  'database': {'enabled': True,\n",
       "   'nb_of_ports': 3,\n",
       "   'ports': [8000, 8001, 8002],\n",
       "   'data': [['delta', 'phi'], [3.14]],\n",
       "   'temp_targets': {'cpu': 79.5, 'case': 72.0}}},\n",
       " 'servers': {'alpha': {'ip': '10.0.0.1',\n",
       "   'role': 'frontend',\n",
       "   'test_list_of_dict': [{'a': 'a_val', 'b': 'b_val'}, {'c': 'c_val'}]},\n",
       "  'beta': {'role': 'backend',\n",
       "   'test': {'ip': '10.20.30.20', 'role': 'backend_test'},\n",
       "   'prod': {'ip': '10.0.0.3', 'role': 'backend_prod'}}}}"
      ]
     },
     "execution_count": 6,
     "metadata": {},
     "output_type": "execute_result"
    }
   ],
   "source": [
    "updated_test_content = tomllib.load(Path(r\"../tests/assets/test_third.toml\").open('rb'))\n",
    "merge_dict(test_content, updated_test_content)\n",
    "test_content"
   ]
  },
  {
   "cell_type": "code",
   "execution_count": null,
   "metadata": {},
   "outputs": [],
   "source": []
  }
 ],
 "metadata": {
  "kernelspec": {
   "display_name": "Python 3",
   "language": "python",
   "name": "python3"
  },
  "language_info": {
   "codemirror_mode": {
    "name": "ipython",
    "version": 3
   },
   "file_extension": ".py",
   "mimetype": "text/x-python",
   "name": "python",
   "nbconvert_exporter": "python",
   "pygments_lexer": "ipython3",
   "version": "3.11.1"
  }
 },
 "nbformat": 4,
 "nbformat_minor": 2
}
