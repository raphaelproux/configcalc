{
 "cells": [
  {
   "cell_type": "code",
   "execution_count": 159,
   "metadata": {},
   "outputs": [],
   "source": [
    "import tomllib\n",
    "from pathlib import Path\n",
    "from IPython.display import display\n",
    "from decimal import Decimal"
   ]
  },
  {
   "cell_type": "code",
   "execution_count": 117,
   "metadata": {},
   "outputs": [
    {
     "data": {
      "text/plain": [
       "{'title': 'TOML Example',\n",
       " 'owner': {'name': 'Tom Preston-Werner',\n",
       "  'dob': datetime.datetime(1979, 5, 27, 7, 32, tzinfo=datetime.timezone(datetime.timedelta(days=-1, seconds=57600))),\n",
       "  'nb_of_days': 34,\n",
       "  'calculated_value': '= nb_of_days * database.nb_of_ports + 2 / data[0][1][0] * 2.32e-3 * _input_parts - cos(2*nb_of_days)'},\n",
       " 'database': {'enabled': True,\n",
       "  'nb_of_ports': 3,\n",
       "  'ports': [8000, 8001, 8002],\n",
       "  'data': [['delta', 'phi'], [3.14]],\n",
       "  'temp_targets': {'cpu': 79.5, 'case': 72.0}},\n",
       " 'servers': {'alpha': {'ip': '10.0.0.1', 'role': 'frontend'},\n",
       "  'beta': {'ip': '10.0.0.2', 'role': 'backend'}}}"
      ]
     },
     "metadata": {},
     "output_type": "display_data"
    }
   ],
   "source": [
    "test_content = tomllib.load(Path(r\"../tests/assets/test.toml\").open('rb'))\n",
    "display(test_content)"
   ]
  },
  {
   "cell_type": "code",
   "execution_count": 118,
   "metadata": {},
   "outputs": [],
   "source": [
    "def find_formulas(dictionary: dict) -> dict[tuple, str]:\n",
    "    formulas = {}\n",
    "    for key, value in dictionary.items():\n",
    "        if type(value) == str and value.startswith(\"=\"):\n",
    "            formulas[(key,)] = value\n",
    "        elif type(value) == dict:\n",
    "            nested_dict = find_formulas(value)\n",
    "            for nested_key, nested_value in nested_dict.items():\n",
    "                formulas[(key, *nested_key)] = nested_value\n",
    "        # elif type(value) in (list, tuple):\n",
    "        #     for list_key, list_value in enumerate(value):\n",
    "\n",
    "        #         nested_dict = find_formulas(list_value)\n",
    "        #         for nested_key, nested_value in nested_dict.items():\n",
    "        #             formulas[(list_key, *nested_key)] = nested_value\n",
    "    return formulas\n"
   ]
  },
  {
   "cell_type": "code",
   "execution_count": 119,
   "metadata": {},
   "outputs": [
    {
     "data": {
      "text/plain": [
       "{('owner',\n",
       "  'calculated_value'): '= nb_of_days * database.nb_of_ports + 2 / data[0][1][0] * 2.32e-3 * _input_parts - cos(2*nb_of_days)'}"
      ]
     },
     "execution_count": 119,
     "metadata": {},
     "output_type": "execute_result"
    }
   ],
   "source": [
    "find_formulas(test_content)"
   ]
  },
  {
   "cell_type": "code",
   "execution_count": 120,
   "metadata": {},
   "outputs": [],
   "source": [
    "import pyparsing as pp"
   ]
  },
  {
   "cell_type": "code",
   "execution_count": 189,
   "metadata": {},
   "outputs": [],
   "source": [
    "def decimal_parser() -> pp.ParseString:\n",
    "    def convert_to_decimal(token):\n",
    "        return Decimal(token[0])\n",
    "    int_part = pp.Opt(pp.one_of('- +'))+pp.Word(pp.nums)\n",
    "    mantissa = int_part + pp.Opt('.' + pp.Opt(pp.Word(pp.nums)))\n",
    "    exponent_part = pp.Opt(pp.one_of('e E') + pp.Opt(pp.one_of('- +'))+ pp.Word(pp.nums))\n",
    "    number = pp.Combine(mantissa + exponent_part)\n",
    "    number.set_parse_action(convert_to_decimal)\n",
    "    return number\n",
    "\n",
    "def regular_number_parser():\n",
    "    return pp.common.number\n",
    "\n",
    "def var_name_parser():\n",
    "    dict_like_key = pp.Suppress('.') + pp.common.identifier\n",
    "    list_like_index = pp.Suppress('[')+pp.common.integer+pp.Suppress(']')\n",
    "    subvar_element = dict_like_key ^ list_like_index\n",
    "    return pp.Group(pp.common.identifier + subvar_element[...], aslist=True)\n",
    "\n",
    "def function_struct_parser(number_parser):\n",
    "    number = number_parser()\n",
    "    return pp.common.identifier + pp.Suppress('(') + pp.Word(pp.alphanum) + pp.Suppress(')')\n",
    "\n",
    "def build_operand_parser(number_parser):\n",
    "    number = number_parser()\n",
    "    var_name = var_name_parser()\n",
    "    function_struct = function_struct_parser()\n",
    "\n",
    "    operand = function_struct | number | var_name\n",
    "    operator = pp.one_of(\"+ - * /\")\n",
    "    # operator_operand = operator + operand\n",
    "    operator_operand = pp.infix_notation(integer | varname,\n",
    "    [\n",
    "        ('-', 1, pp.OpAssoc.RIGHT),\n",
    "        (one_of('* /'), 2, pp.OpAssoc.LEFT),\n",
    "        (one_of('+ -'), 2, pp.OpAssoc.LEFT),\n",
    "    ])\n",
    "    return pp.Suppress(\"=\") + operator_operand\n",
    "\n",
    "operand_parser = build_operand_parser(number_parser=regular_number_parser)"
   ]
  },
  {
   "cell_type": "code",
   "execution_count": 190,
   "metadata": {},
   "outputs": [
    {
     "data": {
      "text/plain": [
       "ParseResults([-2233.0, '-', -2], {})"
      ]
     },
     "execution_count": 190,
     "metadata": {},
     "output_type": "execute_result"
    }
   ],
   "source": [
    "operand_parser.parse_string(\"=-2.233e3--2\")"
   ]
  },
  {
   "cell_type": "code",
   "execution_count": 191,
   "metadata": {},
   "outputs": [
    {
     "data": {
      "text/plain": [
       "ParseResults([['nb_of_days'], '*', ['database', 'nb_of_ports'], '+', 2, '/', ['data', 0, 1, 0], '*', 0.00232, '*', ['_input_parts'], '-', ['cos']], {})"
      ]
     },
     "execution_count": 191,
     "metadata": {},
     "output_type": "execute_result"
    }
   ],
   "source": [
    "operand_parser.parse_string(find_formulas(test_content)[('owner', 'calculated_value')])"
   ]
  },
  {
   "cell_type": "code",
   "execution_count": 192,
   "metadata": {},
   "outputs": [
    {
     "data": {
      "text/plain": [
       "pyparsing.core.And"
      ]
     },
     "execution_count": 192,
     "metadata": {},
     "output_type": "execute_result"
    }
   ],
   "source": [
    "type(operand_parser)"
   ]
  },
  {
   "cell_type": "markdown",
   "metadata": {},
   "source": [
    "to be done :\n",
    "- function handling : you need first to separate the contents of parentheses (function calls)\n",
    "- calculation priority?"
   ]
  },
  {
   "cell_type": "code",
   "execution_count": null,
   "metadata": {},
   "outputs": [],
   "source": []
  }
 ],
 "metadata": {
  "kernelspec": {
   "display_name": "Python 3",
   "language": "python",
   "name": "python3"
  },
  "language_info": {
   "codemirror_mode": {
    "name": "ipython",
    "version": 3
   },
   "file_extension": ".py",
   "mimetype": "text/x-python",
   "name": "python",
   "nbconvert_exporter": "python",
   "pygments_lexer": "ipython3",
   "version": "3.11.1"
  }
 },
 "nbformat": 4,
 "nbformat_minor": 2
}
