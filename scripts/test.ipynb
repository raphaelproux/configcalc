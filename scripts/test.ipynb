{
    "cells": [
        {
            "cell_type": "code",
            "execution_count": 13,
            "metadata": {},
            "outputs": [],
            "source": [
                "import tomllib\n",
                "import msgspec\n",
                "from pathlib import Path\n",
                "from IPython.display import display\n",
                "from decimal import Decimal"
            ]
        },
        {
            "cell_type": "code",
            "execution_count": 14,
            "metadata": {},
            "outputs": [],
            "source": [
                "content_file = Path(r\"../tests/assets/test.toml\").open('rb').read()\n",
                "content_file_str = Path(r\"../tests/assets/test.toml\").open('rb').read()"
            ]
        },
        {
            "cell_type": "markdown",
            "metadata": {},
            "source": [
                "## timing tests between msgspec and tomllib\n",
                "Result is : no difference, so let's use tomllib which is embedded in python"
            ]
        },
        {
            "cell_type": "code",
            "execution_count": null,
            "metadata": {},
            "outputs": [
                {
                    "name": "stdout",
                    "output_type": "stream",
                    "text": [
                        "111 µs ± 325 ns per loop (mean ± std. dev. of 7 runs, 10,000 loops each)\n"
                    ]
                }
            ],
            "source": [
                "%%timeit\n",
                "test_content = msgspec.toml.decode(content_file)"
            ]
        },
        {
            "cell_type": "code",
            "execution_count": 5,
            "metadata": {},
            "outputs": [
                {
                    "name": "stdout",
                    "output_type": "stream",
                    "text": [
                        "113 µs ± 808 ns per loop (mean ± std. dev. of 7 runs, 10,000 loops each)\n"
                    ]
                }
            ],
            "source": [
                "%%timeit\n",
                "test_content = tomllib.loads(content_file.decode())"
            ]
        },
        {
            "cell_type": "markdown",
            "metadata": {},
            "source": [
                "## get test toml data from file"
            ]
        },
        {
            "cell_type": "code",
            "execution_count": 15,
            "metadata": {},
            "outputs": [
                {
                    "data": {
                        "text/plain": [
                            "{'title': 'TOML Example',\n",
                            " 'owner': {'info': {'name': 'Tom Preston-Werner',\n",
                            "   'dob': datetime.datetime(1979, 5, 27, 7, 32, tzinfo=datetime.timezone(datetime.timedelta(days=-1, seconds=57600))),\n",
                            "   'nb_of_days_per_month': 30,\n",
                            "   'nb_of_months': 3,\n",
                            "   'nb_of_days': '=nb_of_months * nb_of_days_per_month',\n",
                            "   'calculated_value': '= nb_of_days^3 * database.nb_of_ports + 2 / database.data[1][0]^2 * 2.32e-3 * _input_parts - cos(2*nb_of_days)'},\n",
                            "  'database': {'enabled': True,\n",
                            "   'nb_of_ports': 3,\n",
                            "   'ports': [8000, 8001, 8002],\n",
                            "   'data': [['delta', 'phi'], [3.14]],\n",
                            "   'temp_targets': {'cpu': 79.5, 'case': 72.0}}},\n",
                            " 'servers': {'alpha': {'ip': '10.0.0.1',\n",
                            "   'role': 'frontend',\n",
                            "   'test_list_of_dict': [{'a': 'a_val', 'b': 'b_val'}, {'c': 'c_val'}]},\n",
                            "  'beta': {'role': 'backend',\n",
                            "   'test': {'ip': '10.0.0.2', 'role': 'backend_test'},\n",
                            "   'prod': {'ip': '10.0.0.3', 'role': 'backend_prod'}}}}"
                        ]
                    },
                    "execution_count": 15,
                    "metadata": {},
                    "output_type": "execute_result"
                }
            ],
            "source": [
                "test_content = tomllib.load(Path(r\"../tests/assets/test.toml\").open('rb'))  #, parse_float=Decimal)\n",
                "test_content"
            ]
        },
        {
            "cell_type": "markdown",
            "metadata": {},
            "source": [
                "## find calculated variables in toml dict"
            ]
        },
        {
            "cell_type": "code",
            "execution_count": 16,
            "metadata": {},
            "outputs": [],
            "source": [
                "from typing import Any\n",
                "\n",
                "\n",
                "def find_formulas(dictionary: dict[str, Any]) -> dict[tuple[str, ...], str]:\n",
                "    formulas = {}\n",
                "    for key, value in dictionary.items():\n",
                "        if isinstance(value, str) and value.startswith(\"=\"):\n",
                "            formulas[(key,)] = value\n",
                "        elif isinstance(value, dict):\n",
                "            nested_dict = find_formulas(value)\n",
                "            for nested_key, nested_value in nested_dict.items():\n",
                "                formulas[(key, *nested_key)] = nested_value\n",
                "        # elif type(value) in (list, tuple):\n",
                "        #     for list_key, list_value in enumerate(value):\n",
                "\n",
                "        #         nested_dict = find_formulas(list_value)\n",
                "        #         for nested_key, nested_value in nested_dict.items():\n",
                "        #             formulas[(list_key, *nested_key)] = nested_value\n",
                "    return formulas\n"
            ]
        },
        {
            "cell_type": "code",
            "execution_count": 17,
            "metadata": {},
            "outputs": [
                {
                    "data": {
                        "text/plain": [
                            "{('owner', 'info', 'nb_of_days'): '=nb_of_months * nb_of_days_per_month',\n",
                            " ('owner',\n",
                            "  'info',\n",
                            "  'calculated_value'): '= nb_of_days^3 * database.nb_of_ports + 2 / database.data[1][0]^2 * 2.32e-3 * _input_parts - cos(2*nb_of_days)'}"
                        ]
                    },
                    "execution_count": 17,
                    "metadata": {},
                    "output_type": "execute_result"
                }
            ],
            "source": [
                "find_formulas(test_content)"
            ]
        },
        {
            "cell_type": "markdown",
            "metadata": {},
            "source": [
                "## parse the calculated variable formula into a nested list"
            ]
        },
        {
            "cell_type": "code",
            "execution_count": 18,
            "metadata": {},
            "outputs": [],
            "source": [
                "import pyparsing as pp"
            ]
        },
        {
            "cell_type": "code",
            "execution_count": 19,
            "metadata": {},
            "outputs": [],
            "source": [
                "from typing import Callable\n",
                "\n",
                "\n",
                "def decimal_parser() -> pp.ParserElement:\n",
                "    def convert_to_decimal(token: pp.ParseResults) -> Decimal:\n",
                "        return Decimal(str(token[0]))\n",
                "    int_part = pp.Opt(pp.one_of(\"- +\"))+pp.Word(pp.nums)\n",
                "    mantissa = int_part + pp.Opt(\".\" + pp.Opt(pp.Word(pp.nums)))\n",
                "    exponent_part = pp.Opt(pp.one_of(\"e E\") + pp.Opt(pp.one_of(\"- +\"))+ pp.Word(pp.nums))\n",
                "    number = pp.Combine(mantissa + exponent_part)\n",
                "    number.set_parse_action(convert_to_decimal)\n",
                "    return number\n",
                "\n",
                "def regular_number_parser() -> pp.ParserElement:\n",
                "    return pp.common.number\n",
                "\n",
                "def var_name_parser() -> pp.ParserElement:\n",
                "    dict_like_key = pp.Suppress(\".\") + pp.common.identifier\n",
                "    list_like_index = pp.Suppress(\"[\")+pp.common.integer+pp.Suppress(\"]\")\n",
                "    subvar_element = dict_like_key ^ list_like_index\n",
                "    return pp.Group(pp.common.identifier + subvar_element[...], aslist=True)\n",
                "\n",
                "def operator_operand_expr(number_parser: Callable[[], pp.ParserElement]) -> pp.ParserElement:\n",
                "    operator_operand = pp.Forward()\n",
                "    number = number_parser()\n",
                "    var_name = var_name_parser()\n",
                "    function_struct = pp.common.identifier + pp.Suppress(\"(\") + operator_operand + pp.Suppress(\")\")\n",
                "\n",
                "    operand = function_struct | number | var_name\n",
                "    operator_operand <<= pp.infix_notation(operand,\n",
                "    [\n",
                "        (\"-\", 1, pp.OpAssoc.RIGHT),\n",
                "        (\"^\", 2, pp.OpAssoc.LEFT),\n",
                "        (pp.one_of(\"* /\"), 2, pp.OpAssoc.LEFT),\n",
                "        (pp.one_of(\"+ -\"), 2, pp.OpAssoc.LEFT),\n",
                "    ])\n",
                "    return operator_operand\n",
                "\n",
                "def build_operand_parser(number_parser: Callable[[], pp.ParserElement]) -> pp.ParserElement:\n",
                "    operator_operand = operator_operand_expr(number_parser)\n",
                "    return pp.Suppress(\"=\") + operator_operand\n",
                "\n",
                "operand_parser = build_operand_parser(number_parser=regular_number_parser)"
            ]
        },
        {
            "cell_type": "code",
            "execution_count": 24,
            "metadata": {},
            "outputs": [
                {
                    "data": {
                        "text/plain": [
                            "True"
                        ]
                    },
                    "execution_count": 24,
                    "metadata": {},
                    "output_type": "execute_result"
                }
            ],
            "source": [
                "isinstance(operand_parser, pp.ParserElement)"
            ]
        },
        {
            "cell_type": "code",
            "execution_count": 8,
            "metadata": {},
            "outputs": [
                {
                    "data": {
                        "text/plain": [
                            "[[['-', 2233.0], '-', ['-', 2]]]"
                        ]
                    },
                    "execution_count": 8,
                    "metadata": {},
                    "output_type": "execute_result"
                }
            ],
            "source": [
                "operand_parser.parse_string(\"=-2.233e3--2\").asList()"
            ]
        },
        {
            "cell_type": "code",
            "execution_count": 9,
            "metadata": {},
            "outputs": [
                {
                    "data": {
                        "text/plain": [
                            "[[[[['nb_of_days'], '^', ['cos', [['pi'], '/', 2], '+', 2]],\n",
                            "   '*',\n",
                            "   ['database', 'nb_of_ports']],\n",
                            "  '+',\n",
                            "  [2,\n",
                            "   '/',\n",
                            "   [['database', 'data', 1, 0], '^', 2],\n",
                            "   '*',\n",
                            "   0.00232,\n",
                            "   '*',\n",
                            "   ['_input_parts']],\n",
                            "  '-',\n",
                            "  'cos',\n",
                            "  [[2, '*', ['pi']],\n",
                            "   '+',\n",
                            "   [3,\n",
                            "    '*',\n",
                            "    'sin',\n",
                            "    [2, '-', [8, '*', [3.2e-05, '^', 6]]],\n",
                            "    '/',\n",
                            "    ['nb_of_days']]]]]"
                        ]
                    },
                    "execution_count": 9,
                    "metadata": {},
                    "output_type": "execute_result"
                }
            ],
            "source": [
                "test_str = \"=nb_of_days^(cos(pi/2)+2) * database.nb_of_ports + 2 / database.data[1][0]^2 * 2.32e-3 * _input_parts - cos(2* pi + 3*sin(2-8*3.2e-5^6)/nb_of_days)\"\n",
                "test_parsed = operand_parser.parse_string(test_str).asList()\n",
                "test_parsed"
            ]
        },
        {
            "cell_type": "code",
            "execution_count": 10,
            "metadata": {},
            "outputs": [],
            "source": [
                "import math\n",
                "math_functions = []\n",
                "math_constants = []\n",
                "for math_object_name in dir(math):\n",
                "    math_object = getattr(math, math_object_name)\n",
                "    if callable(math_object) and not math_object_name.startswith(\"__\"):\n",
                "        math_functions.append(math_object_name)\n",
                "    elif type(math_object) == float:\n",
                "        math_constants.append(math_object_name)"
            ]
        },
        {
            "cell_type": "markdown",
            "metadata": {},
            "source": [
                "## get variable references in nested list"
            ]
        },
        {
            "cell_type": "code",
            "execution_count": 11,
            "metadata": {},
            "outputs": [
                {
                    "data": {
                        "text/plain": [
                            "[[0, 0, 0, 0], [0, 0, 2], [0, 2, 2, 0], [0, 2, 6], [0, 5, 2]]"
                        ]
                    },
                    "execution_count": 11,
                    "metadata": {},
                    "output_type": "execute_result"
                }
            ],
            "source": [
                "def find_var_ref_indices(parsed_lists: list) -> list:\n",
                "    base_elements_indices = []\n",
                "    for i, element in enumerate(parsed_lists):\n",
                "        # we have a var name\n",
                "        if isinstance(element, list) and isinstance(element[0], str) and element[0] not in math_functions:\n",
                "            # base_element = element[0]\n",
                "            # print(element)\n",
                "            base_elements_indices.append([i])\n",
                "        elif isinstance(element, list):\n",
                "            base_elements_indices.extend([[i, *inner_indices] for inner_indices in find_var_ref_indices(element)])\n",
                "    return base_elements_indices\n",
                "\n",
                "find_var_ref_indices([[[[['nb_of_days'], '^', 3], '*', ['database', 'nb_of_ports']],\n",
                "  '+',\n",
                "  [2,\n",
                "   '/',\n",
                "   [['database', 'data', 1, 0], '^', 2],\n",
                "   '*',\n",
                "   0.00232,\n",
                "   '*',\n",
                "   ['_input_parts']],\n",
                "  '-',\n",
                "  'cos',\n",
                "  [2, '*', ['nb_of_days']]]])"
            ]
        },
        {
            "cell_type": "markdown",
            "metadata": {},
            "source": [
                "## get/set elements in a nested list"
            ]
        },
        {
            "cell_type": "code",
            "execution_count": 12,
            "metadata": {},
            "outputs": [
                {
                    "ename": "KeyError",
                    "evalue": "'database'",
                    "output_type": "error",
                    "traceback": [
                        "\u001b[0;31m---------------------------------------------------------------------------\u001b[0m",
                        "\u001b[0;31mKeyError\u001b[0m                                  Traceback (most recent call last)",
                        "\u001b[1;32m/Users/raphaelproux/git-repos/configcalc/scripts/test.ipynb Cell 20\u001b[0m line \u001b[0;36m1\n\u001b[1;32m     <a href='vscode-notebook-cell:/Users/raphaelproux/git-repos/configcalc/scripts/test.ipynb#X25sZmlsZQ%3D%3D?line=15'>16</a>\u001b[0m     \u001b[39mreturn\u001b[39;00m nested_list\n\u001b[1;32m     <a href='vscode-notebook-cell:/Users/raphaelproux/git-repos/configcalc/scripts/test.ipynb#X25sZmlsZQ%3D%3D?line=17'>18</a>\u001b[0m get_deep(test_parsed, [\u001b[39m0\u001b[39m, \u001b[39m2\u001b[39m, \u001b[39m2\u001b[39m, \u001b[39m0\u001b[39m])\n\u001b[0;32m---> <a href='vscode-notebook-cell:/Users/raphaelproux/git-repos/configcalc/scripts/test.ipynb#X25sZmlsZQ%3D%3D?line=18'>19</a>\u001b[0m set_deep(test_parsed, [\u001b[39m0\u001b[39m, \u001b[39m2\u001b[39m, \u001b[39m2\u001b[39m, \u001b[39m0\u001b[39m], test_content[\u001b[39m\"\u001b[39;49m\u001b[39mdatabase\u001b[39;49m\u001b[39m\"\u001b[39;49m][\u001b[39m\"\u001b[39m\u001b[39mdata\u001b[39m\u001b[39m\"\u001b[39m][\u001b[39m1\u001b[39m][\u001b[39m0\u001b[39m])\n",
                        "\u001b[0;31mKeyError\u001b[0m: 'database'"
                    ]
                }
            ],
            "source": [
                "# see https://stackoverflow.com/a/44579249/10926757\n",
                "from typing import Any\n",
                "\n",
                "\n",
                "def get_deep(nested_list: list, indices: list[int]) -> Any:\n",
                "    if (len(indices) > 1) and isinstance(nested_list[indices[0]], list):\n",
                "        return get_deep(nested_list[indices[0]], indices[1:])\n",
                "    else:\n",
                "        return nested_list[indices[0]]\n",
                "\n",
                "def set_deep(nested_list: list, indices: list[int], value: Any) -> list:\n",
                "    if (len(indices) > 1) and isinstance(nested_list[indices[0]], list):\n",
                "        set_deep(nested_list[indices[0]], indices[1:], value)\n",
                "    else:\n",
                "        nested_list[indices[0]] = value\n",
                "    return nested_list\n",
                "\n",
                "get_deep(test_parsed, [0, 2, 2, 0])\n",
                "set_deep(test_parsed, [0, 2, 2, 0], test_content[\"database\"][\"data\"][1][0])"
            ]
        },
        {
            "cell_type": "markdown",
            "metadata": {},
            "source": [
                "## get the value of a variable from the reference list\n",
                "there are some scope considerations here: the first element in the reference can be any element of the tree leading to  the calculated variable"
            ]
        },
        {
            "cell_type": "code",
            "execution_count": 26,
            "metadata": {},
            "outputs": [
                {
                    "data": {
                        "text/plain": [
                            "3.14"
                        ]
                    },
                    "execution_count": 26,
                    "metadata": {},
                    "output_type": "execute_result"
                }
            ],
            "source": [
                "def build_ref_levels(ref_position: list[str|int]) -> list[list[str|int]]:\n",
                "    ref_levels = []\n",
                "    for i in reversed(range(len(ref_position))):\n",
                "        ref_levels.append(ref_position[0:i])\n",
                "    return ref_levels\n",
                "\n",
                "def get_value_in_data(data: dict, list_identifier: list[str | int]) -> Any:\n",
                "    item = data\n",
                "    for i_or_key in list_identifier:\n",
                "        item = item[i_or_key]\n",
                "    return item\n",
                "\n",
                "def get_value_from_ref_list(data: dict, list_identifier: list[str | int], ref_levels: list[list[str | int]]) -> Any:\n",
                "    return_value = None\n",
                "    for ref_level in ref_levels:\n",
                "        try:\n",
                "            return_value = get_value_in_data(data=data, list_identifier=ref_level + list_identifier)\n",
                "        except (KeyError, TypeError):\n",
                "            continue\n",
                "    return return_value\n",
                "\n",
                "\n",
                "list_identifier = [\"database\", \"data\", 1, 0]\n",
                "ref_levels = build_ref_levels([\"owner\", \"info\", \"calculated_value\"])\n",
                "get_value_from_ref_list(test_content, list_identifier=list_identifier, ref_levels=ref_levels)"
            ]
        },
        {
            "cell_type": "markdown",
            "metadata": {},
            "source": [
                "## calculate the formula with only values  "
            ]
        },
        {
            "cell_type": "code",
            "execution_count": 14,
            "metadata": {},
            "outputs": [],
            "source": [
                "def find_inner_lists(parsed_lists: list) -> list[list[int]]:\n",
                "    inner_lists_positions = []\n",
                "    def inner_list_seeker(search_list: list, position: list[int]) -> list[int] | None:\n",
                "        found_list = False\n",
                "        for i, element in enumerate(search_list):\n",
                "            if isinstance(element, list):\n",
                "                inner_lists_positions.append(inner_list_seeker(element, position + [i]))\n",
                "                found_list = True\n",
                "        if not found_list:\n",
                "            return position\n",
                "    inner_list_seeker(parsed_lists, position=[])\n",
                "    return [position for position in inner_lists_positions if position is not None]\n",
                "\n",
                "Number = int | float | Decimal\n",
                "\n",
                "OPERATIONS = {\n",
                "    r\"+\": lambda a, b: a + b,\n",
                "    r\"-\": lambda a, b: a - b,\n",
                "    r\"*\": lambda a, b: a * b,\n",
                "    r\"/\": lambda a, b: a / b,\n",
                "    r\"^\": lambda a, b: a ** b,\n",
                "}\n",
                "\n",
                "def calc_result_update(result: Number, value: Number, operation: str | None = None):\n",
                "    if result is None or operation is None:\n",
                "        return value\n",
                "    else:\n",
                "        return OPERATIONS[operation](result, value)\n",
                "\n",
                "def calc_math_func_result(function_name: \"str\", function_arg: Number):\n",
                "    return getattr(math, function_name)(function_arg)\n",
                "\n",
                "def calculate_local(calc_list: list[Number | str]) -> Number:\n",
                "    result = 0\n",
                "    operator = \"+\"\n",
                "    i = 0\n",
                "    while i < len(calc_list):\n",
                "        operand_or_operator = calc_list[i]\n",
                "        if operand_or_operator in list(OPERATIONS.keys()):\n",
                "            operator = operand_or_operator\n",
                "        else:\n",
                "            if operand_or_operator in math_functions:\n",
                "                operand = calc_math_func_result(function_name=operand_or_operator, function_arg=calc_list[i+1])\n",
                "                i += 1\n",
                "            else:\n",
                "                operand = operand_or_operator\n",
                "            result = calc_result_update(result, operand, operator)\n",
                "        i += 1\n",
                "\n",
                "    return result\n",
                "\n",
                "\n",
                "def calculate_formula_w_value(parsed_formula_w_value: list) -> Number:\n",
                "    inner_lists = find_inner_lists(parsed_formula_w_value)\n",
                "\n",
                "    while len(inner_lists) > 0:\n",
                "        for inner_list in inner_lists:\n",
                "            calc_list = get_deep(parsed_formula_w_value, inner_list)\n",
                "            local_result = calculate_local(calc_list=calc_list)\n",
                "            set_deep(parsed_formula_w_value, inner_list, local_result)\n",
                "        inner_lists = find_inner_lists(parsed_formula_w_value)\n",
                "        \n",
                "    return parsed_formula_w_value[0]\n",
                "\n",
                "# calculate_local([\"cos\", 3.14, \"+\", 1, \"-\", 2, \"+\", \"sin\", 3.14/2])\n"
            ]
        },
        {
            "cell_type": "markdown",
            "metadata": {},
            "source": [
                "## assemble all bricks to calculate a calculated variable"
            ]
        },
        {
            "cell_type": "code",
            "execution_count": 15,
            "metadata": {},
            "outputs": [
                {
                    "data": {
                        "text/plain": [
                            "90"
                        ]
                    },
                    "metadata": {},
                    "output_type": "display_data"
                },
                {
                    "data": {
                        "text/plain": [
                            "2187000.610225252"
                        ]
                    },
                    "metadata": {},
                    "output_type": "display_data"
                }
            ],
            "source": [
                "import functools\n",
                "\n",
                "\n",
                "def _parse_any_value(value: str | Any, operand_parser: pp.ParserElement) -> list | Any:\n",
                "    if isinstance(value, str) and value.startswith(\"=\"):\n",
                "        parsed_new_val = operand_parser.parse_string(value).asList()\n",
                "    else:\n",
                "        parsed_new_val = value\n",
                "    return parsed_new_val\n",
                "\n",
                "parse_any_value = functools.partial(_parse_any_value, operand_parser=operand_parser)\n",
                "\n",
                "def replace_vars_by_values(parsed_formula: list, data: dict, formula_position: list, context_variables: dict[str, float | int | Decimal]) -> list:\n",
                "    while True:\n",
                "        var_ref_indices = find_var_ref_indices(parsed_formula)\n",
                "        if var_ref_indices == []:\n",
                "            break\n",
                "        for var_ref_index in var_ref_indices:\n",
                "            var_ref = get_deep(parsed_formula, var_ref_index)\n",
                "            try:\n",
                "                parsed_new_val = context_variables[var_ref[0]]\n",
                "            except (KeyError, TypeError):\n",
                "                ref_levels = build_ref_levels(formula_position)\n",
                "                var_new_val = get_value_from_ref_list(data, list_identifier=var_ref, ref_levels=ref_levels)\n",
                "                parsed_new_val = parse_any_value(var_new_val)\n",
                "            set_deep(parsed_formula, var_ref_index, parsed_new_val)\n",
                "\n",
                "    return parsed_formula\n",
                "\n",
                "\n",
                "formulas = find_formulas(test_content)\n",
                "for formula_position, formula in list(formulas.items()):\n",
                "    parsed_formula = operand_parser.parse_string(formula).asList()\n",
                "    parsed_formula_w_value = replace_vars_by_values(parsed_formula=parsed_formula, data=test_content, formula_position=list(formula_position), context_variables={\"_input_parts\": 25})\n",
                "    calculated_value = calculate_formula_w_value(parsed_formula_w_value)\n",
                "    # set the value in toml dict\n",
                "    display(calculated_value)"
            ]
        },
        {
            "cell_type": "markdown",
            "metadata": {},
            "source": [
                "## algorithm considerations\n",
                "last level of list can be:\n",
                "- a calculation with only numbers\n",
                "- a variable name or succession of names if tree (dict or list or combination of both)\n",
                "  \n",
                "this last level can be calculated\n",
                "\n",
                "however a better approach would be to list all \"in config\" variables and find their values when possible.  Looping through all calculated variables allows to calculate at least some variables"
            ]
        },
        {
            "cell_type": "markdown",
            "metadata": {},
            "source": [
                "Problem:\n",
                "I want to calculate DPT time. This is based on the quantity of pieces which is a quantity known in the calculation context. So the calculations cannot be performed upfront.\n",
                "\n",
                "The solution is to perform calculated variables calculations on-the-fly when calling the config, with a \"context\" parameter somehow (possibly a config object attribute or a function parameter, TBD) which will hold the context values needed for calculation (e.g. the number of parts)\n",
                "\n",
                "This solves the issue of the context values but not necessarily of the nested calculated variables\n",
                "\n",
                "For nested calculated variables, a solution could be to replace literally in the structure the reference of a calculated variable by its expression. This would be the first step in the evaluation of the calculated variables, with recursive behaviour until no reference to calculated variable is present in the expression. All values of all references present can then be calculated.\n",
                "\n",
                "So the evaluation goes through three steps:\n",
                "\n",
                "1. Find all variable references and the corresponding values. Context references have priority over config references.\n",
                "2. Replace all references by their expression. If a reference referred to another calculated variable, this will reintroduce new references to look for.\n",
                "3. Loop 1 and 2 until no reference to other variables is left.\n",
                "4. Perform the calculation"
            ]
        },
        {
            "cell_type": "code",
            "execution_count": 112,
            "metadata": {},
            "outputs": [
                {
                    "data": {
                        "text/plain": [
                            "[[[['nb_of_days'], '^', 3], '*', ['database', 'nb_of_ports']]]"
                        ]
                    },
                    "execution_count": 112,
                    "metadata": {},
                    "output_type": "execute_result"
                }
            ],
            "source": [
                "test_str = \"=nb_of_days^3 * database.nb_of_ports\"\n",
                "operand_parser.parse_string(test_str).asList()"
            ]
        },
        {
            "cell_type": "code",
            "execution_count": 113,
            "metadata": {},
            "outputs": [
                {
                    "data": {
                        "text/plain": [
                            "ParseResults([ParseResults([ParseResults([ParseResults([['nb_of_days'], '^', 3], {}), '*', ['database', 'nb_of_ports']], {}), '+', ParseResults([2, '/', ParseResults([['data', 0, 1, 0], '^', 2], {}), '*', 0.00232, '*', ['_input_parts']], {}), '-', 'cos', ParseResults([2, '*', ['nb_of_days']], {})], {})], {})"
                        ]
                    },
                    "execution_count": 113,
                    "metadata": {},
                    "output_type": "execute_result"
                }
            ],
            "source": [
                "operand_parser.parse_string(find_formulas(test_content)[('owner', 'calculated_value')])"
            ]
        },
        {
            "cell_type": "code",
            "execution_count": 45,
            "metadata": {},
            "outputs": [
                {
                    "data": {
                        "text/plain": [
                            "pyparsing.core.And"
                        ]
                    },
                    "execution_count": 45,
                    "metadata": {},
                    "output_type": "execute_result"
                }
            ],
            "source": [
                "type(operand_parser)"
            ]
        },
        {
            "cell_type": "code",
            "execution_count": 85,
            "metadata": {},
            "outputs": [
                {
                    "data": {
                        "text/plain": [
                            "nested () expression"
                        ]
                    },
                    "metadata": {},
                    "output_type": "display_data"
                }
            ],
            "source": [
                "\n"
            ]
        },
        {
            "cell_type": "code",
            "execution_count": null,
            "metadata": {},
            "outputs": [],
            "source": []
        }
    ],
    "metadata": {
        "kernelspec": {
            "display_name": "Python 3",
            "language": "python",
            "name": "python3"
        },
        "language_info": {
            "codemirror_mode": {
                "name": "ipython",
                "version": 3
            },
            "file_extension": ".py",
            "mimetype": "text/x-python",
            "name": "python",
            "nbconvert_exporter": "python",
            "pygments_lexer": "ipython3",
            "version": "3.11.1"
        }
    },
    "nbformat": 4,
    "nbformat_minor": 2
}
